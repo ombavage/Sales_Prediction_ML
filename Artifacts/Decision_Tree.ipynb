{
 "cells": [
  {
   "cell_type": "code",
   "execution_count": 3,
   "id": "ebfc4d55-d95e-491c-99c5-63e835da098c",
   "metadata": {},
   "outputs": [],
   "source": [
    "import numpy as np\n",
    "import pandas as pd\n",
    "\n",
    "import matplotlib.pyplot as plt\n",
    "import seaborn as sns\n",
    "\n",
    "from sklearn.tree import DecisionTreeRegressor\n",
    "from sklearn.model_selection import train_test_split, GridSearchCV\n",
    "from sklearn.metrics import r2_score, mean_squared_error, mean_absolute_error"
   ]
  },
  {
   "cell_type": "code",
   "execution_count": 4,
   "id": "6c10d65c-0549-42b1-9b7d-20b7e7648bc3",
   "metadata": {},
   "outputs": [
    {
     "data": {
      "text/html": [
       "<div>\n",
       "<style scoped>\n",
       "    .dataframe tbody tr th:only-of-type {\n",
       "        vertical-align: middle;\n",
       "    }\n",
       "\n",
       "    .dataframe tbody tr th {\n",
       "        vertical-align: top;\n",
       "    }\n",
       "\n",
       "    .dataframe thead th {\n",
       "        text-align: right;\n",
       "    }\n",
       "</style>\n",
       "<table border=\"1\" class=\"dataframe\">\n",
       "  <thead>\n",
       "    <tr style=\"text-align: right;\">\n",
       "      <th></th>\n",
       "      <th>Item_Weight</th>\n",
       "      <th>Item_Fat_Content</th>\n",
       "      <th>Item_Visibility</th>\n",
       "      <th>Item_MRP</th>\n",
       "      <th>Outlet_Establishment_Year</th>\n",
       "      <th>Item_Outlet_Sales</th>\n",
       "      <th>Item_Type_Breads</th>\n",
       "      <th>Item_Type_Breakfast</th>\n",
       "      <th>Item_Type_Canned</th>\n",
       "      <th>Item_Type_Dairy</th>\n",
       "      <th>...</th>\n",
       "      <th>Item_Type_Snack Foods</th>\n",
       "      <th>Item_Type_Soft Drinks</th>\n",
       "      <th>Item_Type_Starchy Foods</th>\n",
       "      <th>Outlet_Size_Medium</th>\n",
       "      <th>Outlet_Size_Small</th>\n",
       "      <th>Outlet_Location_Type_Tier 2</th>\n",
       "      <th>Outlet_Location_Type_Tier 3</th>\n",
       "      <th>Outlet_Type_Supermarket Type1</th>\n",
       "      <th>Outlet_Type_Supermarket Type2</th>\n",
       "      <th>Outlet_Type_Supermarket Type3</th>\n",
       "    </tr>\n",
       "  </thead>\n",
       "  <tbody>\n",
       "    <tr>\n",
       "      <th>0</th>\n",
       "      <td>9.300000</td>\n",
       "      <td>0</td>\n",
       "      <td>0.252232</td>\n",
       "      <td>249.8092</td>\n",
       "      <td>23.0</td>\n",
       "      <td>6.417137</td>\n",
       "      <td>0</td>\n",
       "      <td>0</td>\n",
       "      <td>0</td>\n",
       "      <td>1</td>\n",
       "      <td>...</td>\n",
       "      <td>0</td>\n",
       "      <td>0</td>\n",
       "      <td>0</td>\n",
       "      <td>1</td>\n",
       "      <td>0</td>\n",
       "      <td>0</td>\n",
       "      <td>0</td>\n",
       "      <td>1</td>\n",
       "      <td>0</td>\n",
       "      <td>0</td>\n",
       "    </tr>\n",
       "    <tr>\n",
       "      <th>1</th>\n",
       "      <td>5.920000</td>\n",
       "      <td>1</td>\n",
       "      <td>0.268136</td>\n",
       "      <td>48.2692</td>\n",
       "      <td>13.0</td>\n",
       "      <td>3.964431</td>\n",
       "      <td>0</td>\n",
       "      <td>0</td>\n",
       "      <td>0</td>\n",
       "      <td>0</td>\n",
       "      <td>...</td>\n",
       "      <td>0</td>\n",
       "      <td>1</td>\n",
       "      <td>0</td>\n",
       "      <td>1</td>\n",
       "      <td>0</td>\n",
       "      <td>0</td>\n",
       "      <td>1</td>\n",
       "      <td>0</td>\n",
       "      <td>1</td>\n",
       "      <td>0</td>\n",
       "    </tr>\n",
       "    <tr>\n",
       "      <th>2</th>\n",
       "      <td>17.500000</td>\n",
       "      <td>0</td>\n",
       "      <td>0.255913</td>\n",
       "      <td>141.6180</td>\n",
       "      <td>23.0</td>\n",
       "      <td>5.632405</td>\n",
       "      <td>0</td>\n",
       "      <td>0</td>\n",
       "      <td>0</td>\n",
       "      <td>0</td>\n",
       "      <td>...</td>\n",
       "      <td>0</td>\n",
       "      <td>0</td>\n",
       "      <td>0</td>\n",
       "      <td>1</td>\n",
       "      <td>0</td>\n",
       "      <td>0</td>\n",
       "      <td>0</td>\n",
       "      <td>1</td>\n",
       "      <td>0</td>\n",
       "      <td>0</td>\n",
       "    </tr>\n",
       "    <tr>\n",
       "      <th>3</th>\n",
       "      <td>13.650000</td>\n",
       "      <td>1</td>\n",
       "      <td>0.233562</td>\n",
       "      <td>57.6588</td>\n",
       "      <td>35.0</td>\n",
       "      <td>3.742265</td>\n",
       "      <td>0</td>\n",
       "      <td>0</td>\n",
       "      <td>0</td>\n",
       "      <td>0</td>\n",
       "      <td>...</td>\n",
       "      <td>1</td>\n",
       "      <td>0</td>\n",
       "      <td>0</td>\n",
       "      <td>0</td>\n",
       "      <td>0</td>\n",
       "      <td>0</td>\n",
       "      <td>1</td>\n",
       "      <td>1</td>\n",
       "      <td>0</td>\n",
       "      <td>0</td>\n",
       "    </tr>\n",
       "    <tr>\n",
       "      <th>4</th>\n",
       "      <td>12.857645</td>\n",
       "      <td>0</td>\n",
       "      <td>0.503272</td>\n",
       "      <td>107.7622</td>\n",
       "      <td>37.0</td>\n",
       "      <td>6.525631</td>\n",
       "      <td>0</td>\n",
       "      <td>0</td>\n",
       "      <td>0</td>\n",
       "      <td>0</td>\n",
       "      <td>...</td>\n",
       "      <td>1</td>\n",
       "      <td>0</td>\n",
       "      <td>0</td>\n",
       "      <td>1</td>\n",
       "      <td>0</td>\n",
       "      <td>0</td>\n",
       "      <td>1</td>\n",
       "      <td>0</td>\n",
       "      <td>0</td>\n",
       "      <td>1</td>\n",
       "    </tr>\n",
       "    <tr>\n",
       "      <th>...</th>\n",
       "      <td>...</td>\n",
       "      <td>...</td>\n",
       "      <td>...</td>\n",
       "      <td>...</td>\n",
       "      <td>...</td>\n",
       "      <td>...</td>\n",
       "      <td>...</td>\n",
       "      <td>...</td>\n",
       "      <td>...</td>\n",
       "      <td>...</td>\n",
       "      <td>...</td>\n",
       "      <td>...</td>\n",
       "      <td>...</td>\n",
       "      <td>...</td>\n",
       "      <td>...</td>\n",
       "      <td>...</td>\n",
       "      <td>...</td>\n",
       "      <td>...</td>\n",
       "      <td>...</td>\n",
       "      <td>...</td>\n",
       "      <td>...</td>\n",
       "    </tr>\n",
       "    <tr>\n",
       "      <th>7992</th>\n",
       "      <td>6.865000</td>\n",
       "      <td>0</td>\n",
       "      <td>0.384362</td>\n",
       "      <td>214.5218</td>\n",
       "      <td>35.0</td>\n",
       "      <td>6.002014</td>\n",
       "      <td>0</td>\n",
       "      <td>0</td>\n",
       "      <td>0</td>\n",
       "      <td>0</td>\n",
       "      <td>...</td>\n",
       "      <td>1</td>\n",
       "      <td>0</td>\n",
       "      <td>0</td>\n",
       "      <td>0</td>\n",
       "      <td>0</td>\n",
       "      <td>0</td>\n",
       "      <td>1</td>\n",
       "      <td>1</td>\n",
       "      <td>0</td>\n",
       "      <td>0</td>\n",
       "    </tr>\n",
       "    <tr>\n",
       "      <th>7993</th>\n",
       "      <td>8.380000</td>\n",
       "      <td>1</td>\n",
       "      <td>0.360838</td>\n",
       "      <td>108.1570</td>\n",
       "      <td>20.0</td>\n",
       "      <td>4.160967</td>\n",
       "      <td>0</td>\n",
       "      <td>0</td>\n",
       "      <td>0</td>\n",
       "      <td>0</td>\n",
       "      <td>...</td>\n",
       "      <td>0</td>\n",
       "      <td>0</td>\n",
       "      <td>0</td>\n",
       "      <td>1</td>\n",
       "      <td>0</td>\n",
       "      <td>1</td>\n",
       "      <td>0</td>\n",
       "      <td>1</td>\n",
       "      <td>0</td>\n",
       "      <td>0</td>\n",
       "    </tr>\n",
       "    <tr>\n",
       "      <th>7994</th>\n",
       "      <td>10.600000</td>\n",
       "      <td>0</td>\n",
       "      <td>0.327686</td>\n",
       "      <td>85.1224</td>\n",
       "      <td>18.0</td>\n",
       "      <td>4.958269</td>\n",
       "      <td>0</td>\n",
       "      <td>0</td>\n",
       "      <td>0</td>\n",
       "      <td>0</td>\n",
       "      <td>...</td>\n",
       "      <td>0</td>\n",
       "      <td>0</td>\n",
       "      <td>0</td>\n",
       "      <td>0</td>\n",
       "      <td>1</td>\n",
       "      <td>1</td>\n",
       "      <td>0</td>\n",
       "      <td>1</td>\n",
       "      <td>0</td>\n",
       "      <td>0</td>\n",
       "    </tr>\n",
       "    <tr>\n",
       "      <th>7995</th>\n",
       "      <td>7.210000</td>\n",
       "      <td>1</td>\n",
       "      <td>0.525625</td>\n",
       "      <td>103.1332</td>\n",
       "      <td>13.0</td>\n",
       "      <td>5.472011</td>\n",
       "      <td>0</td>\n",
       "      <td>0</td>\n",
       "      <td>0</td>\n",
       "      <td>0</td>\n",
       "      <td>...</td>\n",
       "      <td>1</td>\n",
       "      <td>0</td>\n",
       "      <td>0</td>\n",
       "      <td>1</td>\n",
       "      <td>0</td>\n",
       "      <td>0</td>\n",
       "      <td>1</td>\n",
       "      <td>0</td>\n",
       "      <td>1</td>\n",
       "      <td>0</td>\n",
       "    </tr>\n",
       "    <tr>\n",
       "      <th>7996</th>\n",
       "      <td>14.800000</td>\n",
       "      <td>0</td>\n",
       "      <td>0.355368</td>\n",
       "      <td>75.4670</td>\n",
       "      <td>25.0</td>\n",
       "      <td>4.485320</td>\n",
       "      <td>0</td>\n",
       "      <td>0</td>\n",
       "      <td>0</td>\n",
       "      <td>0</td>\n",
       "      <td>...</td>\n",
       "      <td>0</td>\n",
       "      <td>1</td>\n",
       "      <td>0</td>\n",
       "      <td>0</td>\n",
       "      <td>1</td>\n",
       "      <td>0</td>\n",
       "      <td>0</td>\n",
       "      <td>1</td>\n",
       "      <td>0</td>\n",
       "      <td>0</td>\n",
       "    </tr>\n",
       "  </tbody>\n",
       "</table>\n",
       "<p>7997 rows × 28 columns</p>\n",
       "</div>"
      ],
      "text/plain": [
       "      Item_Weight  Item_Fat_Content  Item_Visibility  Item_MRP  \\\n",
       "0        9.300000                 0         0.252232  249.8092   \n",
       "1        5.920000                 1         0.268136   48.2692   \n",
       "2       17.500000                 0         0.255913  141.6180   \n",
       "3       13.650000                 1         0.233562   57.6588   \n",
       "4       12.857645                 0         0.503272  107.7622   \n",
       "...           ...               ...              ...       ...   \n",
       "7992     6.865000                 0         0.384362  214.5218   \n",
       "7993     8.380000                 1         0.360838  108.1570   \n",
       "7994    10.600000                 0         0.327686   85.1224   \n",
       "7995     7.210000                 1         0.525625  103.1332   \n",
       "7996    14.800000                 0         0.355368   75.4670   \n",
       "\n",
       "      Outlet_Establishment_Year  Item_Outlet_Sales  Item_Type_Breads  \\\n",
       "0                          23.0           6.417137                 0   \n",
       "1                          13.0           3.964431                 0   \n",
       "2                          23.0           5.632405                 0   \n",
       "3                          35.0           3.742265                 0   \n",
       "4                          37.0           6.525631                 0   \n",
       "...                         ...                ...               ...   \n",
       "7992                       35.0           6.002014                 0   \n",
       "7993                       20.0           4.160967                 0   \n",
       "7994                       18.0           4.958269                 0   \n",
       "7995                       13.0           5.472011                 0   \n",
       "7996                       25.0           4.485320                 0   \n",
       "\n",
       "      Item_Type_Breakfast  Item_Type_Canned  Item_Type_Dairy  ...  \\\n",
       "0                       0                 0                1  ...   \n",
       "1                       0                 0                0  ...   \n",
       "2                       0                 0                0  ...   \n",
       "3                       0                 0                0  ...   \n",
       "4                       0                 0                0  ...   \n",
       "...                   ...               ...              ...  ...   \n",
       "7992                    0                 0                0  ...   \n",
       "7993                    0                 0                0  ...   \n",
       "7994                    0                 0                0  ...   \n",
       "7995                    0                 0                0  ...   \n",
       "7996                    0                 0                0  ...   \n",
       "\n",
       "      Item_Type_Snack Foods  Item_Type_Soft Drinks  Item_Type_Starchy Foods  \\\n",
       "0                         0                      0                        0   \n",
       "1                         0                      1                        0   \n",
       "2                         0                      0                        0   \n",
       "3                         1                      0                        0   \n",
       "4                         1                      0                        0   \n",
       "...                     ...                    ...                      ...   \n",
       "7992                      1                      0                        0   \n",
       "7993                      0                      0                        0   \n",
       "7994                      0                      0                        0   \n",
       "7995                      1                      0                        0   \n",
       "7996                      0                      1                        0   \n",
       "\n",
       "      Outlet_Size_Medium  Outlet_Size_Small  Outlet_Location_Type_Tier 2  \\\n",
       "0                      1                  0                            0   \n",
       "1                      1                  0                            0   \n",
       "2                      1                  0                            0   \n",
       "3                      0                  0                            0   \n",
       "4                      1                  0                            0   \n",
       "...                  ...                ...                          ...   \n",
       "7992                   0                  0                            0   \n",
       "7993                   1                  0                            1   \n",
       "7994                   0                  1                            1   \n",
       "7995                   1                  0                            0   \n",
       "7996                   0                  1                            0   \n",
       "\n",
       "      Outlet_Location_Type_Tier 3  Outlet_Type_Supermarket Type1  \\\n",
       "0                               0                              1   \n",
       "1                               1                              0   \n",
       "2                               0                              1   \n",
       "3                               1                              1   \n",
       "4                               1                              0   \n",
       "...                           ...                            ...   \n",
       "7992                            1                              1   \n",
       "7993                            0                              1   \n",
       "7994                            0                              1   \n",
       "7995                            1                              0   \n",
       "7996                            0                              1   \n",
       "\n",
       "      Outlet_Type_Supermarket Type2  Outlet_Type_Supermarket Type3  \n",
       "0                                 0                              0  \n",
       "1                                 1                              0  \n",
       "2                                 0                              0  \n",
       "3                                 0                              0  \n",
       "4                                 0                              1  \n",
       "...                             ...                            ...  \n",
       "7992                              0                              0  \n",
       "7993                              0                              0  \n",
       "7994                              0                              0  \n",
       "7995                              1                              0  \n",
       "7996                              0                              0  \n",
       "\n",
       "[7997 rows x 28 columns]"
      ]
     },
     "execution_count": 4,
     "metadata": {},
     "output_type": "execute_result"
    }
   ],
   "source": [
    "df=pd.read_csv('sales_data_EDA_final.csv')\n",
    "df"
   ]
  },
  {
   "cell_type": "code",
   "execution_count": 5,
   "id": "d48b6cdf-0f15-43f4-9206-6001925e82ef",
   "metadata": {},
   "outputs": [
    {
     "data": {
      "text/plain": [
       "Index(['Item_Weight', 'Item_Fat_Content', 'Item_Visibility', 'Item_MRP',\n",
       "       'Outlet_Establishment_Year', 'Item_Type_Breads', 'Item_Type_Breakfast',\n",
       "       'Item_Type_Canned', 'Item_Type_Dairy', 'Item_Type_Frozen Foods',\n",
       "       'Item_Type_Fruits and Vegetables', 'Item_Type_Hard Drinks',\n",
       "       'Item_Type_Health and Hygiene', 'Item_Type_Household', 'Item_Type_Meat',\n",
       "       'Item_Type_Others', 'Item_Type_Seafood', 'Item_Type_Snack Foods',\n",
       "       'Item_Type_Soft Drinks', 'Item_Type_Starchy Foods',\n",
       "       'Outlet_Size_Medium', 'Outlet_Size_Small',\n",
       "       'Outlet_Location_Type_Tier 2', 'Outlet_Location_Type_Tier 3',\n",
       "       'Outlet_Type_Supermarket Type1', 'Outlet_Type_Supermarket Type2',\n",
       "       'Outlet_Type_Supermarket Type3'],\n",
       "      dtype='object')"
      ]
     },
     "execution_count": 5,
     "metadata": {},
     "output_type": "execute_result"
    }
   ],
   "source": [
    "x=df.drop(['Item_Outlet_Sales'],axis=1)\n",
    "y=df['Item_Outlet_Sales']\n",
    "x.columns"
   ]
  },
  {
   "cell_type": "code",
   "execution_count": 6,
   "id": "05441900-73eb-4161-b3a0-b370fe49313f",
   "metadata": {},
   "outputs": [],
   "source": [
    "#Splitting the data\n",
    "x_train,x_test,y_train,y_test=train_test_split(x,y,test_size=0.2,random_state=1)"
   ]
  },
  {
   "cell_type": "code",
   "execution_count": 7,
   "id": "45e70f19-3c35-4194-806d-d1ea8d2d0b46",
   "metadata": {},
   "outputs": [
    {
     "data": {
      "text/plain": [
       "DecisionTreeRegressor(random_state=1)"
      ]
     },
     "execution_count": 7,
     "metadata": {},
     "output_type": "execute_result"
    }
   ],
   "source": [
    "model=DecisionTreeRegressor(random_state=1)\n",
    "model.fit(x_train,y_train)"
   ]
  },
  {
   "cell_type": "code",
   "execution_count": 8,
   "id": "46613a06-f029-495a-b3fe-c636ac7d845e",
   "metadata": {},
   "outputs": [
    {
     "name": "stdout",
     "output_type": "stream",
     "text": [
      "##################################################\n",
      "Training Data Evaluation\n",
      "##################################################\n",
      "R2 Score== 1.0\n",
      "MSE== 0.0\n",
      "MAE== 0.0\n",
      "##################################################\n",
      "Testing Data Evaluation\n",
      "##################################################\n",
      "R2 Score== 0.40285796986934297\n",
      "MSE== 0.7222662333311166\n",
      "MAE== 0.6666034812888278\n"
     ]
    }
   ],
   "source": [
    "#evaluate the model\n",
    "#training_data\n",
    "print('#'*50)\n",
    "print('Training Data Evaluation')\n",
    "print('#'*50)\n",
    "y_pred=model.predict(x_train)\n",
    "\n",
    "r2=r2_score(y_train,y_pred)\n",
    "print('R2 Score==',r2)\n",
    "\n",
    "mse=mean_squared_error(y_train,y_pred)\n",
    "print('MSE==',mse)\n",
    "\n",
    "mae=mean_absolute_error(y_train,y_pred)\n",
    "print('MAE==',mae)\n",
    "\n",
    "print('#'*50)\n",
    "print('Testing Data Evaluation')\n",
    "print('#'*50)\n",
    "\n",
    "y_pred=model.predict(x_test)\n",
    "\n",
    "r2=r2_score(y_test,y_pred)\n",
    "print('R2 Score==',r2)\n",
    "\n",
    "mse=mean_squared_error(y_test,y_pred)\n",
    "print('MSE==',mse)\n",
    "\n",
    "mae=mean_absolute_error(y_test,y_pred)\n",
    "print('MAE==',mae)"
   ]
  },
  {
   "cell_type": "code",
   "execution_count": 9,
   "id": "b1156bbc-472a-4493-89f3-e323b6805800",
   "metadata": {},
   "outputs": [
    {
     "data": {
      "text/plain": [
       "{'ccp_alphas': array([0.00000000e+00, 5.55371843e-19, 5.55371843e-19, ...,\n",
       "        5.14365266e-02, 1.29735114e-01, 2.63201038e-01]),\n",
       " 'impurities': array([-7.80019753e-16, -7.79464381e-16, -7.78909010e-16, ...,\n",
       "         6.10498706e-01,  9.99704047e-01,  1.26290508e+00])}"
      ]
     },
     "execution_count": 9,
     "metadata": {},
     "output_type": "execute_result"
    }
   ],
   "source": [
    "result = model.cost_complexity_pruning_path(x_train,y_train)\n",
    "\n",
    "# dt_model= DecisionTreeRegressor()\n",
    "result"
   ]
  },
  {
   "cell_type": "code",
   "execution_count": 10,
   "id": "89188cfe-4243-4978-b2a0-607cdf19a1bd",
   "metadata": {},
   "outputs": [
    {
     "data": {
      "text/plain": [
       "array([0.00000000e+00, 5.55371843e-19, 5.55371843e-19, ...,\n",
       "       5.14365266e-02, 1.29735114e-01, 2.63201038e-01])"
      ]
     },
     "execution_count": 10,
     "metadata": {},
     "output_type": "execute_result"
    }
   ],
   "source": [
    "ccp_alpha_value = result['ccp_alphas']\n",
    "ccp_alpha_value"
   ]
  },
  {
   "cell_type": "code",
   "execution_count": 11,
   "id": "e5720782-a661-4c53-9959-03be9d715a83",
   "metadata": {},
   "outputs": [],
   "source": [
    "train_data_acc =[]\n",
    "test_data_acc =[]\n",
    "\n",
    "for ccp in ccp_alpha_value:\n",
    "    dt_model= DecisionTreeRegressor(ccp_alpha = ccp)\n",
    "    dt_model.fit(x_train,y_train)\n",
    "    \n",
    "    test_acc = dt_model.score(x_test,y_test)\n",
    "    train_acc = dt_model.score(x_train,y_train)\n",
    "    \n",
    "    train_data_acc.append(train_acc)\n",
    "    test_data_acc.append(test_acc)"
   ]
  },
  {
   "cell_type": "code",
   "execution_count": 12,
   "id": "2a2c04e8-6457-4cc4-8ac4-10d8cc420ffd",
   "metadata": {},
   "outputs": [
    {
     "data": {
      "text/plain": [
       "[<matplotlib.lines.Line2D at 0x266f473c1c0>]"
      ]
     },
     "execution_count": 12,
     "metadata": {},
     "output_type": "execute_result"
    },
    {
     "data": {
      "image/png": "[encoded data removed]",
      "text/plain": [
       "<Figure size 432x288 with 1 Axes>"
      ]
     },
     "metadata": {
      "needs_background": "light"
     },
     "output_type": "display_data"
    }
   ],
   "source": [
    "plt.plot(ccp_alpha_value,train_data_acc)\n",
    "plt.plot(ccp_alpha_value,test_data_acc)"
   ]
  },
  {
   "cell_type": "code",
   "execution_count": 21,
   "id": "71f8c03d-4685-49f7-86a1-4ba40cbbe310",
   "metadata": {},
   "outputs": [
    {
     "data": {
      "text/plain": [
       "GridSearchCV(cv=5, estimator=DecisionTreeRegressor(random_state=10),\n",
       "             param_grid={'ccp_alpha': [0.0001, 0.0002, 0.0003, 0.0004, 0.0005,\n",
       "                                       0.0006, 0.0007, 0.0008, 0.0009]})"
      ]
     },
     "execution_count": 21,
     "metadata": {},
     "output_type": "execute_result"
    }
   ],
   "source": [
    "# Hyperparameter Tuning\n",
    "model=DecisionTreeRegressor(random_state=10)\n",
    "\n",
    "hyp={'ccp_alpha':[0.0001,0.0002,0.0003,0.0004,0.0005,0.0006,0.0007,0.0008,0.0009]}\n",
    "\n",
    "gscv_model=GridSearchCV(model,hyp,cv=5)\n",
    "gscv_model.fit(x_train,y_train)"
   ]
  },
  {
   "cell_type": "code",
   "execution_count": 22,
   "id": "f547145a-c74c-4146-8fd6-0e4b322dc6fc",
   "metadata": {},
   "outputs": [
    {
     "data": {
      "text/plain": [
       "DecisionTreeRegressor(ccp_alpha=0.0008, random_state=10)"
      ]
     },
     "execution_count": 22,
     "metadata": {},
     "output_type": "execute_result"
    }
   ],
   "source": [
    "gscv_model.best_estimator_"
   ]
  },
  {
   "cell_type": "code",
   "execution_count": 23,
   "id": "9fb1878c",
   "metadata": {},
   "outputs": [
    {
     "data": {
      "text/plain": [
       "DecisionTreeRegressor(ccp_alpha=0.0008, random_state=10)"
      ]
     },
     "execution_count": 23,
     "metadata": {},
     "output_type": "execute_result"
    }
   ],
   "source": [
    "model_final=gscv_model.best_estimator_\n",
    "model_final.fit(x_train,y_train)"
   ]
  },
  {
   "cell_type": "code",
   "execution_count": 25,
   "id": "1eca3ea2-c7bd-4417-99e8-82b45f1f8acf",
   "metadata": {},
   "outputs": [
    {
     "name": "stdout",
     "output_type": "stream",
     "text": [
      "##################################################\n",
      "Training Data Evaluation\n",
      "##################################################\n",
      "R2 Score== 0.7229641529510142\n",
      "MSE== 0.34986997991648877\n",
      "MAE== 0.46348361394991355\n",
      "##################################################\n",
      "Testing Data Evaluation\n",
      "##################################################\n",
      "R2 Score== 0.7022146367941788\n",
      "MSE== 0.36018284054925176\n",
      "MAE== 0.46724866157900635\n"
     ]
    }
   ],
   "source": [
    "#evaluate the model\n",
    "#training_data\n",
    "print('#'*50)\n",
    "print('Training Data Evaluation')\n",
    "print('#'*50)\n",
    "y_pred=model_final.predict(x_train)\n",
    "\n",
    "r2=r2_score(y_train,y_pred)\n",
    "print('R2 Score==',r2)\n",
    "\n",
    "mse=mean_squared_error(y_train,y_pred)\n",
    "print('MSE==',mse)\n",
    "\n",
    "mae=mean_absolute_error(y_train,y_pred)\n",
    "print('MAE==',mae)\n",
    "\n",
    "print('#'*50)\n",
    "print('Testing Data Evaluation')\n",
    "print('#'*50)\n",
    "\n",
    "y_pred=model_final.predict(x_test)\n",
    "\n",
    "r2=r2_score(y_test,y_pred)\n",
    "print('R2 Score==',r2)\n",
    "\n",
    "mse=mean_squared_error(y_test,y_pred)\n",
    "print('MSE==',mse)\n",
    "\n",
    "mae=mean_absolute_error(y_test,y_pred)\n",
    "print('MAE==',mae)"
   ]
  },
  {
   "cell_type": "code",
   "execution_count": 17,
   "id": "7f909753",
   "metadata": {},
   "outputs": [],
   "source": [
    "import pickle"
   ]
  },
  {
   "cell_type": "code",
   "execution_count": 18,
   "id": "fd12d32f",
   "metadata": {},
   "outputs": [],
   "source": [
    "with open ('model.pkl','wb') as file:\n",
    "    pickle.dump(model_final,file)"
   ]
  }
 ],
 "metadata": {
  "kernelspec": {
   "display_name": "Python 3 (ipykernel)",
   "language": "python",
   "name": "python3"
  },
  "language_info": {
   "codemirror_mode": {
    "name": "ipython",
    "version": 3
   },
   "file_extension": ".py",
   "mimetype": "text/x-python",
   "name": "python",
   "nbconvert_exporter": "python",
   "pygments_lexer": "ipython3",
   "version": "3.9.9"
  }
 },
 "nbformat": 4,
 "nbformat_minor": 5
}
